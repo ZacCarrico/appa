{
 "cells": [
  {
   "cell_type": "markdown",
   "metadata": {},
   "source": [
    "This takes letters I've written to my daughters over the years and creates a chatbot they can ask questions to and receive answers based on those letters.\n",
    "The larger goal is to provide a chatbot that can answer my kid's questions, even when I'm not around (the notebook is named \"appa\" because this is the Korean word for dad).\n",
    "\n",
    "It uses OpenAI's gpt-3.5-turbo-0125 model, Chroma to store embedded documents, and LangChain to tie things together."
   ]
  },
  {
   "cell_type": "code",
   "execution_count": 16,
   "metadata": {},
   "outputs": [],
   "source": [
    "from langchain_community.document_loaders import DirectoryLoader\n",
    "from langchain.prompts import (\n",
    "    PromptTemplate,\n",
    "    SystemMessagePromptTemplate,\n",
    "    HumanMessagePromptTemplate,\n",
    "    ChatPromptTemplate,\n",
    ")\n",
    "from langchain.schema.runnable import RunnablePassthrough\n",
    "from langchain.schema.messages import HumanMessage, SystemMessage\n",
    "from dotenv import load_dotenv\n",
    "from langchain_community.vectorstores import Chroma\n",
    "from langchain_openai import ChatOpenAI, OpenAIEmbeddings\n",
    "from langchain_core.output_parsers import StrOutputParser\n",
    "\n",
    "\n",
    "LETTERS_PATH = \"txt\"\n",
    "CHROMA_PATH = \"/tmp/chroma_data\"\n",
    "\n",
    "load_dotenv()\n",
    "\n",
    "chat_model = ChatOpenAI(model=\"gpt-3.5-turbo-0125\", temperature=0)"
   ]
  },
  {
   "cell_type": "code",
   "execution_count": 17,
   "metadata": {},
   "outputs": [],
   "source": [
    "loader = DirectoryLoader(path=LETTERS_PATH)\n",
    "vector_db = Chroma.from_documents(\n",
    "    loader.load(), OpenAIEmbeddings(), persist_directory=CHROMA_PATH\n",
    ")"
   ]
  },
  {
   "cell_type": "code",
   "execution_count": 31,
   "metadata": {},
   "outputs": [],
   "source": [
    "question = \"How can I become more confident?\""
   ]
  },
  {
   "cell_type": "code",
   "execution_count": 32,
   "metadata": {},
   "outputs": [],
   "source": [
    "template = \"\"\"Your job is to provide wise answers to questions. Use\n",
    "the following context to answer questions. Be as detailed as possible, but\n",
    "don't make up any information that's not from the context. If you don't know\n",
    "an answer, say \"I'm based off of your Dad's letters to you and unfortunately, \n",
    "I don't have any letters with context that match your question\"\n",
    "{context}\n",
    "\"\"\"\n",
    "\n",
    "review_system_prompt = SystemMessagePromptTemplate(\n",
    "    prompt=PromptTemplate(input_variables=[\"context\"], template=template)\n",
    ")\n",
    "\n",
    "review_human_prompt = HumanMessagePromptTemplate(\n",
    "    prompt=PromptTemplate(input_variables=[\"question\"], template=\"{question}\")\n",
    ")\n",
    "messages = [review_system_prompt, review_human_prompt]\n",
    "prompt_template = ChatPromptTemplate(\n",
    "    input_variables=[\"context\", \"question\"],\n",
    "    messages=messages,\n",
    ")\n",
    "chain = (\n",
    "    {\"context\": vector_db.as_retriever(k=3), \"question\": RunnablePassthrough()}\n",
    "    | prompt_template\n",
    "    | chat_model\n",
    "    | StrOutputParser()\n",
    ")"
   ]
  },
  {
   "cell_type": "code",
   "execution_count": 34,
   "metadata": {},
   "outputs": [],
   "source": [
    "response = chain.invoke(question)"
   ]
  },
  {
   "cell_type": "code",
   "execution_count": 35,
   "metadata": {},
   "outputs": [
    {
     "name": "stdout",
     "output_type": "stream",
     "text": [
      "To become more confident, you can start by following these steps:\n",
      "\n",
      "1. **Think critically**: Reflect on your beliefs and values. Understand what you stand for and why. This self-awareness will boost your confidence.\n",
      "\n",
      "2. **Trust your instincts**: Listen to your inner voice. Your instincts are often a result of your experiences and can guide you in making confident decisions.\n",
      "\n",
      "3. **Embrace failure**: Failure is a part of growth. Instead of being afraid of it, see it as a learning opportunity. Each failure brings you closer to success.\n",
      "\n",
      "4. **Ignore the opinions of others**: Don't let the fear of judgment hold you back. Focus on being true to yourself rather than seeking validation from others.\n",
      "\n",
      "5. **Experiment boldly**: Step out of your comfort zone and try new things. The more you challenge yourself, the more confident you will become in your abilities.\n",
      "\n",
      "6. **Surround yourself with supportive people**: Build a circle of friends and colleagues who appreciate and encourage your boldness. Positive relationships can boost your confidence.\n",
      "\n",
      "7. **Challenge limits**: Don't accept the current boundaries as the final word. Be willing to push past limitations and explore new possibilities.\n",
      "\n",
      "By incorporating these practices into your life, you can gradually enhance your confidence and develop a bolder and more assured character.\n"
     ]
    }
   ],
   "source": [
    "print(response)"
   ]
  },
  {
   "cell_type": "markdown",
   "metadata": {},
   "source": [
    "Interestingly, the bold sections (those within **) are verbatim from my letters."
   ]
  }
 ],
 "metadata": {
  "kernelspec": {
   "display_name": ".venv",
   "language": "python",
   "name": "python3"
  },
  "language_info": {
   "codemirror_mode": {
    "name": "ipython",
    "version": 3
   },
   "file_extension": ".py",
   "mimetype": "text/x-python",
   "name": "python",
   "nbconvert_exporter": "python",
   "pygments_lexer": "ipython3",
   "version": "3.10.12"
  }
 },
 "nbformat": 4,
 "nbformat_minor": 2
}
